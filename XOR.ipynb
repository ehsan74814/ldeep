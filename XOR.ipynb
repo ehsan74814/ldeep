{
  "nbformat": 4,
  "nbformat_minor": 0,
  "metadata": {
    "colab": {
      "provenance": [],
      "authorship_tag": "ABX9TyORcYg9uqXkeoPcCbNx1Eob",
      "include_colab_link": true
    },
    "kernelspec": {
      "name": "python3",
      "display_name": "Python 3"
    },
    "language_info": {
      "name": "python"
    }
  },
  "cells": [
    {
      "cell_type": "markdown",
      "metadata": {
        "id": "view-in-github",
        "colab_type": "text"
      },
      "source": [
        "<a href=\"https://colab.research.google.com/github/ehsan74814/ldeep/blob/master/XOR.ipynb\" target=\"_parent\"><img src=\"https://colab.research.google.com/assets/colab-badge.svg\" alt=\"Open In Colab\"/></a>"
      ]
    },
    {
      "cell_type": "code",
      "execution_count": 54,
      "metadata": {
        "id": "PNy_Qk2PUSyS"
      },
      "outputs": [],
      "source": [
        "import numpy as np\n",
        "import matplotlib.pyplot as plt"
      ]
    },
    {
      "cell_type": "code",
      "source": [
        "def stepFunction(a):\n",
        "  return np.where(a>=0, 1, 0)"
      ],
      "metadata": {
        "id": "O5Gv993bUa5H"
      },
      "execution_count": 55,
      "outputs": []
    },
    {
      "cell_type": "code",
      "source": [
        "w = np.random.randn(3)\n",
        "X = np.array([[0,0,1], [0,1,1],[1,0,1],[1,1,1]])\n",
        "t = np.array([0,1,1,0])\n",
        "learningRate = 0.1\n",
        "epochs = 100\n",
        "weights_history = []"
      ],
      "metadata": {
        "id": "GVZFhqonp9kE"
      },
      "execution_count": 56,
      "outputs": []
    },
    {
      "cell_type": "code",
      "source": [
        "for epoch in range(epochs):\n",
        "  print(f\"Epoch {epoch + 1}/{epochs}\")\n",
        "  for i in range(len(X)):\n",
        "    p = np.dot(X[i], w)\n",
        "    y = stepFunction(p)\n",
        "    print(f\"first weights : {w}\")\n",
        "    if y == t[i]:\n",
        "      print(f'Input : {X[i]}, Output:{t[i]}, predict : {y} - correct')\n",
        "      print(f\"current weights : {w}\")\n",
        "    else:\n",
        "      w = w + learningRate*(t[i] - y)\n",
        "      print(f'Input : {X[i]}, Output:{t[i]}, predict: {y} - incorrect')\n",
        "      weights_history.append(w.copy())\n",
        "print(f\"New weights : {w}\")\n"
      ],
      "metadata": {
        "id": "Luqs29R1ss8X"
      },
      "execution_count": null,
      "outputs": []
    },
    {
      "cell_type": "code",
      "source": [
        "plt.figure(figsize=(10,4))\n",
        "weights_history = np.array(weights_history)\n",
        "plt.plot(weights_history[:, 0], label = 'w1')\n",
        "plt.plot(weights_history[:, 1], label = 'w2')\n",
        "plt.plot(weights_history[:, 2], label = 'w3')\n",
        "plt.xlabel('Epoch')\n",
        "plt.ylabel('weight Value')\n",
        "plt.title('weight Changes over Epochs')\n",
        "plt.legend()\n",
        "plt.tight_layout()\n",
        "plt.show()"
      ],
      "metadata": {
        "id": "zmvhoRhk5M2k"
      },
      "execution_count": null,
      "outputs": []
    }
  ]
}